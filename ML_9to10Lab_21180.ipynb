{
  "nbformat": 4,
  "nbformat_minor": 0,
  "metadata": {
    "colab": {
      "provenance": []
    },
    "kernelspec": {
      "name": "python3",
      "display_name": "Python 3"
    },
    "language_info": {
      "name": "python"
    }
  },
  "cells": [
    {
      "cell_type": "code",
      "source": [
        "import pandas as pd\n",
        "import numpy as np\n",
        "from sklearn.cluster import KMeans\n",
        "from sklearn.decomposition import PCA\n",
        "from sklearn.preprocessing import StandardScaler\n",
        "from sklearn.feature_selection import SequentialFeatureSelector\n",
        "from sklearn.model_selection import train_test_split\n",
        "from sklearn.metrics import accuracy_score\n",
        "from sklearn.cluster import AgglomerativeClustering\n",
        "from scipy.cluster.hierarchy import dendrogram, linkage\n",
        "import matplotlib.pyplot as plt\n",
        "import seaborn as sns\n",
        "\n",
        "dataset = pd.read_csv('hdddata.csv')\n",
        "X = dataset.drop('failure', axis=1)\n",
        "y = dataset['failure']\n",
        "X.fillna(X.mean(), inplace=True)\n",
        "# A1. Merge train and test sets and remove class labels\n",
        "#merged_data = pd.concat([train_data, test_data], axis=0, ignore_index=True)\n",
        "#X = merged_data.drop('failure', axis=1)"
      ],
      "metadata": {
        "id": "HEB21ZgcLv-S"
      },
      "execution_count": 2,
      "outputs": []
    },
    {
      "cell_type": "code",
      "source": [
        "# A2. Determine the ideal k value using the elbow method\n",
        "distortions = []\n",
        "K_range = range(1, 32)\n",
        "\n",
        "for k in K_range:\n",
        "    kmeans = KMeans(n_clusters=k, n_init=5, max_iter=300, random_state=42)  # Adjust other parameters for speed\n",
        "    kmeans.fit(X)\n",
        "    distortions.append(kmeans.inertia_)\n",
        "\n",
        "# Parallelize the computation using n_jobs\n",
        "# This will use all available CPU cores\n",
        "# Adjust n_jobs based on the number of cores you want to use\n",
        "# Set to -1 to use all available cores\n",
        "with Parallel(n_jobs=-1):\n",
        "    kmeans = KMeans(n_clusters=k, n_init=5, max_iter=300, random_state=42)  # Adjust other parameters for speed\n",
        "    kmeans.fit(X)\n",
        "    distortions.append(kmeans.inertia_)\n",
        "\n",
        "plt.figure(figsize=(10, 6))\n",
        "plt.plot(K_range, distortions, marker='o')\n",
        "plt.title('Elbow Method for Optimal k')\n",
        "plt.xlabel('Number of Clusters (k)')\n",
        "plt.ylabel('Average Euclidean Distance from Cluster Center')\n",
        "plt.show()"
      ],
      "metadata": {
        "colab": {
          "base_uri": "https://localhost:8080/",
          "height": 227
        },
        "id": "ONLJ8g3tY4tb",
        "outputId": "b92f89e9-609f-46dd-f642-6a7af70fd861"
      },
      "execution_count": null,
      "outputs": [
        {
          "output_type": "error",
          "ename": "KeyboardInterrupt",
          "evalue": "ignored",
          "traceback": [
            "\u001b[0;31m---------------------------------------------------------------------------\u001b[0m",
            "\u001b[0;31mKeyboardInterrupt\u001b[0m                         Traceback (most recent call last)",
            "\u001b[0;32m/usr/local/lib/python3.10/dist-packages/numpy/core/overrides.py\u001b[0m in \u001b[0;36mwhere\u001b[0;34m(*args, **kwargs)\u001b[0m\n",
            "\u001b[0;31mKeyboardInterrupt\u001b[0m: "
          ]
        },
        {
          "output_type": "stream",
          "name": "stderr",
          "text": [
            "Exception ignored in: 'sklearn.cluster._k_means_common._relocate_empty_clusters_dense'\n",
            "Traceback (most recent call last):\n",
            "  File \"<__array_function__ internals>\", line 177, in where\n",
            "KeyboardInterrupt: \n"
          ]
        }
      ]
    },
    {
      "cell_type": "code",
      "source": [
        "# A3. Use Agglomerative Clustering and plot dendrogram\n",
        "plt.figure(figsize=(15, 8))\n",
        "dendrogram(linkage(X, method='ward'))\n",
        "plt.title('Dendrogram for Hierarchical Clustering')\n",
        "plt.xlabel('Samples')\n",
        "plt.ylabel('Distance')\n",
        "plt.show()"
      ],
      "metadata": {
        "id": "Agt_BDf3Y9rD"
      },
      "execution_count": null,
      "outputs": []
    },
    {
      "cell_type": "code",
      "source": [
        "# A4. Perform Sequential Feature Selection\n",
        "sfs = SequentialFeatureSelector(k_features='best', forward=True, scoring='accuracy', cv=5)\n",
        "sfs.fit(X, y)\n",
        "optimal_features = list(X.columns[list(sfs.k_feature_idx_)])\n"
      ],
      "metadata": {
        "id": "CaaTOTqPZFXm"
      },
      "execution_count": null,
      "outputs": []
    },
    {
      "cell_type": "code",
      "source": [
        "# A5. Perform PCA\n",
        "scaler = StandardScaler()\n",
        "X_scaled = scaler.fit_transform(X)\n",
        "pca = PCA()\n",
        "X_pca = pca.fit_transform(X_scaled)\n",
        "\n",
        "cumulative_variance = np.cumsum(pca.explained_variance_ratio_)\n",
        "num_components = np.argmax(cumulative_variance >= 0.95) + 1\n",
        "\n",
        "# Fit PCA with the optimal number of components\n",
        "pca = PCA(n_components=num_components)\n",
        "X_pca = pca.fit_transform(X_scaled)\n",
        "\n",
        "# Split the data into train and test sets\n",
        "X_train, X_test, y_train, y_test = train_test_split(X_pca, y, test_size=0.2, random_state=42)\n",
        "\n",
        "# Train and evaluate your model\n",
        "clf.fit(X_train, y_train)\n",
        "y_pred = clf.predict(X_test)\n",
        "accuracy = accuracy_score(y_test, y_pred)\n",
        "print(f'Accuracy: {accuracy}')\n"
      ],
      "metadata": {
        "id": "tLi4AqqxZW_w"
      },
      "execution_count": null,
      "outputs": []
    }
  ]
}