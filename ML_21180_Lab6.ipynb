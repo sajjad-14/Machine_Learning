{
  "nbformat": 4,
  "nbformat_minor": 0,
  "metadata": {
    "colab": {
      "provenance": []
    },
    "kernelspec": {
      "name": "python3",
      "display_name": "Python 3"
    },
    "language_info": {
      "name": "python"
    }
  },
  "cells": [
    {
      "cell_type": "code",
      "execution_count": 7,
      "metadata": {
        "colab": {
          "base_uri": "https://localhost:8080/",
          "height": 472
        },
        "id": "VIfTv0pi2v7W",
        "outputId": "13ec528e-49fb-49d1-d6b4-077d1f05b92c"
      },
      "outputs": [
        {
          "output_type": "display_data",
          "data": {
            "text/plain": [
              "<Figure size 640x480 with 1 Axes>"
            ],
            "image/png": "[encoded data removed]"
          },
          "metadata": {}
        }
      ],
      "source": [
        "import matplotlib.pyplot as plt\n",
        "import pandas as pd\n",
        "\n",
        "data = pd.read_csv('hdddata.csv')\n",
        "\n",
        "feature1 = 'smart_1_normalized'\n",
        "feature2 = 'smart_10_normalized'\n",
        "\n",
        "plt.scatter(data[feature1],data[feature2])\n",
        "plt.xlabel(feature1)\n",
        "plt.ylabel(feature2)\n",
        "plt.title('Scatter Plot')\n",
        "plt.grid()\n",
        "plt.show()"
      ]
    },
    {
      "cell_type": "code",
      "source": [
        "import pandas as pd\n",
        "from sklearn.model_selection import train_test_split\n",
        "from sklearn.linear_model import LinearRegression\n",
        "from sklearn.metrics import mean_squared_error\n",
        "from sklearn.impute import SimpleImputer\n",
        "\n",
        "# Load the dataset\n",
        "data = pd.read_csv('hdddata.csv')\n",
        "\n",
        "# Impute NaN values in 'smart_3_normalized' with the mean\n",
        "imputer = SimpleImputer(strategy='mean')\n",
        "data['smart_3_normalized'] = imputer.fit_transform(data[['smart_3_normalized']])\n",
        "\n",
        "# Split the data into independent (X) and dependent (y) variables\n",
        "X = data[['smart_3_normalized']]\n",
        "y = data['failure']\n",
        "\n",
        "# Split the data into training and testing sets\n",
        "X_train, X_test, y_train, y_test = train_test_split(X, y, test_size=0.2, random_state=42)\n",
        "\n",
        "# Create a Linear Regression model and fit it to the training data\n",
        "model = LinearRegression()\n",
        "model.fit(X_train, y_train)\n",
        "\n",
        "# Make predictions using the model on the test data\n",
        "y_pred = model.predict(X_test)\n",
        "\n",
        "# Calculate the mean squared error (MSE) to evaluate the model's performance\n",
        "mse = mean_squared_error(y_test, y_pred)\n",
        "print(\"Mean Squared Error:\", mse)\n"
      ],
      "metadata": {
        "colab": {
          "base_uri": "https://localhost:8080/"
        },
        "id": "LpQCcqSM_1y3",
        "outputId": "2b12173c-b57f-49ab-dd28-3093cd4b4dba"
      },
      "execution_count": 15,
      "outputs": [
        {
          "output_type": "stream",
          "name": "stdout",
          "text": [
            "Mean Squared Error: 0.032641086607631514\n"
          ]
        }
      ]
    },
    {
      "cell_type": "code",
      "source": [
        "import pandas as pd\n",
        "from sklearn.model_selection import train_test_split\n",
        "from sklearn.linear_model import LogisticRegression\n",
        "from sklearn.metrics import accuracy_score\n",
        "from sklearn.impute import SimpleImputer\n",
        "\n",
        "# Load the dataset\n",
        "data = pd.read_csv('hdddata.csv')\n",
        "\n",
        "# Impute NaN values in 'smart_3_normalized' with the mean\n",
        "imputer = SimpleImputer(strategy='mean')\n",
        "data['smart_3_normalized_imputed'] = imputer.fit_transform(data[['smart_3_normalized']])\n",
        "\n",
        "# Split the data into independent (X) and dependent (y) variables\n",
        "X_logistic = data[['smart_3_normalized_imputed']]\n",
        "y_logistic = data['failure']\n",
        "\n",
        "# Split the data into training and testing sets\n",
        "X_train_logistic, X_test_logistic, y_train_logistic, y_test_logistic = train_test_split(X_logistic, y_logistic, test_size=0.2, random_state=42)\n",
        "\n",
        "# Create a Logistic Regression classifier and fit it to the training data\n",
        "model_logistic = LogisticRegression()\n",
        "model_logistic.fit(X_train_logistic, y_train_logistic)\n",
        "\n",
        "# Make predictions using the model on the test data\n",
        "y_pred_logistic = model_logistic.predict(X_test_logistic)\n",
        "\n",
        "# Calculate the accuracy to evaluate the model's performance\n",
        "accuracy_logistic = accuracy_score(y_test_logistic, y_pred_logistic)\n",
        "print(\"Accuracy:\", accuracy_logistic)\n"
      ],
      "metadata": {
        "colab": {
          "base_uri": "https://localhost:8080/"
        },
        "id": "xQ5lfigNDPU6",
        "outputId": "19b0d2db-6b70-48d1-e078-b43ee7f43429"
      },
      "execution_count": 18,
      "outputs": [
        {
          "output_type": "stream",
          "name": "stdout",
          "text": [
            "Accuracy: 0.9662044832666807\n"
          ]
        }
      ]
    },
    {
      "cell_type": "code",
      "source": [
        "import pandas as pd\n",
        "from sklearn.model_selection import train_test_split\n",
        "from sklearn.tree import DecisionTreeRegressor\n",
        "from sklearn.neighbors import KNeighborsRegressor\n",
        "from sklearn.metrics import mean_squared_error\n",
        "from sklearn.impute import SimpleImputer\n",
        "\n",
        "# Load the dataset\n",
        "data = pd.read_csv('hdddata.csv')\n",
        "\n",
        "# Impute NaN values in 'smart_3_normalized' with the mean\n",
        "imputer = SimpleImputer(strategy='mean')\n",
        "data['smart_3_normalized_imputed'] = imputer.fit_transform(data[['smart_3_normalized']])\n",
        "\n",
        "# Split the data into independent (X) and dependent (y) variables\n",
        "X_tree = data[['smart_3_normalized_imputed']]\n",
        "y_tree = data['failure']\n",
        "X_knn = data[['smart_3_normalized_imputed']]\n",
        "y_knn = data['failure']\n",
        "\n",
        "# Split the data into training and testing sets\n",
        "X_train_tree, X_test_tree, y_train_tree, y_test_tree = train_test_split(X_tree, y_tree, test_size=0.2, random_state=42)\n",
        "X_train_knn, X_test_knn, y_train_knn, y_test_knn = train_test_split(X_knn, y_knn, test_size=0.2, random_state=42)\n",
        "\n",
        "# Create a Decision Tree Regressor and fit it to the training data\n",
        "tree_regressor = DecisionTreeRegressor()\n",
        "tree_regressor.fit(X_train_tree, y_train_tree)\n",
        "\n",
        "# Make predictions using the Decision Tree Regressor on the test data\n",
        "y_pred_tree = tree_regressor.predict(X_test_tree)\n",
        "\n",
        "# Calculate the mean squared error to evaluate the Decision Tree Regressor\n",
        "mse_tree = mean_squared_error(y_test_tree, y_pred_tree)\n",
        "print(\"Decision Tree Regressor Mean Squared Error:\", mse_tree)\n",
        "\n",
        "# Create a K-Nearest Neighbors (KNN) Regressor and fit it to the training data\n",
        "knn_regressor = KNeighborsRegressor()\n",
        "knn_regressor.fit(X_train_knn, y_train_knn)\n",
        "\n",
        "# Make predictions using the KNN Regressor on the test data\n",
        "y_pred_knn = knn_regressor.predict(X_test_knn)\n",
        "\n",
        "# Calculate the mean squared error to evaluate the KNN Regressor\n",
        "mse_knn = mean_squared_error(y_test_knn, y_pred_knn)\n",
        "print(\"KNN Regressor Mean Squared Error:\", mse_knn)\n"
      ],
      "metadata": {
        "colab": {
          "base_uri": "https://localhost:8080/"
        },
        "id": "jJDni-bsELHU",
        "outputId": "088a7c25-5ecc-4b78-8e98-5c148f392bb9"
      },
      "execution_count": 19,
      "outputs": [
        {
          "output_type": "stream",
          "name": "stdout",
          "text": [
            "Decision Tree Regressor Mean Squared Error: 0.03258580624423448\n",
            "KNN Regressor Mean Squared Error: 0.035516733319301205\n"
          ]
        }
      ]
    }
  ]
}