{
  "nbformat": 4,
  "nbformat_minor": 0,
  "metadata": {
    "colab": {
      "provenance": []
    },
    "kernelspec": {
      "name": "python3",
      "display_name": "Python 3"
    },
    "language_info": {
      "name": "python"
    }
  },
  "cells": [
    {
      "cell_type": "code",
      "execution_count": 10,
      "metadata": {
        "colab": {
          "base_uri": "https://localhost:8080/"
        },
        "id": "fvLQpDj4pVo1",
        "outputId": "4298ed02-8d68-44d3-8348-ecaa88c15f3f"
      },
      "outputs": [
        {
          "output_type": "stream",
          "name": "stdout",
          "text": [
            "Information Gains:\n",
            "age: 0.24674981977443933\n",
            "income: 0.02922256565895487\n",
            "student: 0.15183550136234159\n",
            "credit_rating: 0.04812703040826949\n",
            "\n",
            "The root node for the decision tree is 'age' with an information gain of 0.24674981977443933\n"
          ]
        }
      ],
      "source": [
        "import numpy as np\n",
        "import pandas as pd\n",
        "import math\n",
        "\n",
        "# Define the dataset\n",
        "data = {\n",
        "    'age': ['<=30', '<=30', '31...40', '>40', '>40', '>40', '31...40', '<=30', '<=30', '>40', '<=30', '31...40', '31...40', '>40'],\n",
        "    'income': ['high', 'high', 'high', 'medium', 'low', 'low', 'low', 'medium', 'low', 'medium', 'medium', 'medium', 'high', 'medium'],\n",
        "    'student': ['no', 'no', 'no', 'no', 'yes', 'yes', 'yes', 'no', 'yes', 'yes', 'yes', 'no', 'yes', 'no'],\n",
        "    'credit_rating': ['fair', 'excellent', 'fair', 'fair', 'fair', 'excellent', 'excellent', 'fair', 'fair', 'fair', 'excellent', 'excellent', 'fair', 'excellent'],\n",
        "    'buys_computer': ['no', 'no', 'yes', 'yes', 'yes', 'no', 'yes', 'no', 'yes', 'yes', 'yes', 'yes', 'yes', 'no']\n",
        "}\n",
        "\n",
        "# Create a DataFrame\n",
        "df = pd.DataFrame(data)\n",
        "\n",
        "# Calculate the entropy of the target variable\n",
        "def entropy(data):\n",
        "    total_samples = len(data)\n",
        "    if total_samples == 0:\n",
        "        return 0\n",
        "\n",
        "    unique_labels = data['buys_computer'].unique()\n",
        "    entropy_value = 0\n",
        "\n",
        "    for label in unique_labels:\n",
        "        label_count = len(data[data['buys_computer'] == label])\n",
        "        probability = label_count / total_samples\n",
        "        entropy_value -= probability * math.log2(probability)\n",
        "\n",
        "    return entropy_value\n",
        "\n",
        "entropy_root = entropy(df)\n",
        "\n",
        "# Calculate the conditional entropy and information gain for each feature\n",
        "features = ['age', 'income', 'student', 'credit_rating']\n",
        "information_gains = {}\n",
        "\n",
        "for feature in features:\n",
        "    weighted_entropy = 0\n",
        "\n",
        "    for value in df[feature].unique():\n",
        "        subset = df[df[feature] == value]\n",
        "        subset_entropy = entropy(subset)\n",
        "        weight = len(subset) / len(df)\n",
        "        weighted_entropy += weight * subset_entropy\n",
        "\n",
        "    information_gain = entropy_root - weighted_entropy\n",
        "    information_gains[feature] = information_gain\n",
        "\n",
        "# Select the feature with the highest information gain as the root node\n",
        "root_node = max(information_gains, key=information_gains.get)\n",
        "\n",
        "print(\"Information Gains:\")\n",
        "for feature, gain in information_gains.items():\n",
        "    print(f\"{feature}: {gain}\")\n",
        "\n",
        "print(f\"\\nThe root node for the decision tree is '{root_node}' with an information gain of {information_gains[root_node]}\")\n"
      ]
    },
    {
      "cell_type": "code",
      "source": [],
      "metadata": {
        "id": "FU4lzqrBqTD3"
      },
      "execution_count": 9,
      "outputs": []
    },
    {
      "cell_type": "code",
      "source": [],
      "metadata": {
        "id": "KQ0Sdm7Oqp6k"
      },
      "execution_count": 8,
      "outputs": []
    },
    {
      "cell_type": "code",
      "source": [],
      "metadata": {
        "id": "nYnwiXQ0sEXM"
      },
      "execution_count": null,
      "outputs": []
    }
  ]
}